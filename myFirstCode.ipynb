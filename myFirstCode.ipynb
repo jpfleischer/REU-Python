{
 "metadata": {
  "language_info": {
   "codemirror_mode": {
    "name": "ipython",
    "version": 3
   },
   "file_extension": ".py",
   "mimetype": "text/x-python",
   "name": "python",
   "nbconvert_exporter": "python",
   "pygments_lexer": "ipython3",
   "version": "3.9.5"
  },
  "orig_nbformat": 2,
  "kernelspec": {
   "name": "python3",
   "display_name": "Python 3.9.5 64-bit"
  },
  "metadata": {
   "interpreter": {
    "hash": "11fc141419a455748615588ca451337eaec63d1d64c3783b2264b902ed0c7821"
   }
  },
  "interpreter": {
   "hash": "11fc141419a455748615588ca451337eaec63d1d64c3783b2264b902ed0c7821"
  }
 },
 "nbformat": 4,
 "nbformat_minor": 2,
 "cells": [
  {
   "cell_type": "code",
   "execution_count": 34,
   "metadata": {},
   "outputs": [
    {
     "output_type": "stream",
     "name": "stdout",
     "text": [
      "1\n<class 'int'>\n10000000000000000000000000000000000000000000001\n<class 'int'>\n"
     ]
    }
   ],
   "source": [
    "x = 1\n",
    "print(x)\n",
    "print(type(x))\n",
    "x = 10000000000000000000000000000000000000000000001\n",
    "print(x)\n",
    "print(type(x))\n"
   ]
  },
  {
   "cell_type": "code",
   "execution_count": 35,
   "metadata": {},
   "outputs": [
    {
     "output_type": "stream",
     "name": "stdout",
     "text": [
      "22\n<class 'int'>\n"
     ]
    }
   ],
   "source": [
    "age = int(input('Please enter your age: '))\n",
    "print(age)\n",
    "print(type(age))"
   ]
  },
  {
   "cell_type": "code",
   "execution_count": 36,
   "metadata": {},
   "outputs": [
    {
     "output_type": "stream",
     "name": "stdout",
     "text": [
      "1.83\n<class 'float'>\n"
     ]
    }
   ],
   "source": [
    "# floating points\n",
    "exchange_rate = 1.83\n",
    "print(exchange_rate)\n",
    "print(type(exchange_rate))"
   ]
  },
  {
   "cell_type": "code",
   "execution_count": 37,
   "metadata": {},
   "outputs": [
    {
     "output_type": "stream",
     "name": "stdout",
     "text": [
      "False\n<class 'bool'>\n"
     ]
    }
   ],
   "source": [
    "# Convert string to Boolean\n",
    "status = bool(input('Ok to proceed:'))\n",
    "print(status)\n",
    "print(type(status))"
   ]
  },
  {
   "cell_type": "code",
   "execution_count": 38,
   "metadata": {},
   "outputs": [
    {
     "output_type": "stream",
     "name": "stdout",
     "text": [
      "1\n0\nTrue\nFalse\n"
     ]
    }
   ],
   "source": [
    "# the Boolean type is actually a subtype of integer\n",
    "print(int(True))\n",
    "print(int(False))\n",
    "print(bool(1))\n",
    "print(bool(0))"
   ]
  },
  {
   "cell_type": "code",
   "execution_count": 39,
   "metadata": {},
   "outputs": [
    {
     "output_type": "stream",
     "name": "stdout",
     "text": [
      "5.0\n<class 'float'>\n"
     ]
    }
   ],
   "source": [
    "print(100/20)\n",
    "print(type(100/20))"
   ]
  },
  {
   "cell_type": "code",
   "execution_count": 40,
   "metadata": {},
   "outputs": [
    {
     "output_type": "stream",
     "name": "stdout",
     "text": [
      "25\n"
     ]
    }
   ],
   "source": [
    "print(5**2)"
   ]
  },
  {
   "cell_type": "code",
   "execution_count": 41,
   "metadata": {},
   "outputs": [
    {
     "output_type": "stream",
     "name": "stdout",
     "text": [
      "<class 'float'>\n2.0\n"
     ]
    }
   ],
   "source": [
    "print(type(10/5))\n",
    "print(10/5)"
   ]
  },
  {
   "cell_type": "code",
   "execution_count": 42,
   "metadata": {},
   "outputs": [
    {
     "output_type": "stream",
     "name": "stdout",
     "text": [
      "5 is positive\n5 square is 25\nBye\n"
     ]
    }
   ],
   "source": [
    "# working with an if statement\n",
    "num = int(input('Enter a number: '))\n",
    "if num > 0:\n",
    "    print(num,'is positive')\n",
    "    print(num,'square is', num*num)\n",
    "    print('Bye')"
   ]
  },
  {
   "cell_type": "code",
   "execution_count": 43,
   "metadata": {},
   "outputs": [
    {
     "output_type": "stream",
     "name": "stdout",
     "text": [
      "8 is positive\n8 square is 64\nBye\n"
     ]
    }
   ],
   "source": [
    "num = int(input('Enter another number:'))\n",
    "if num > 0:\n",
    "    print(num,'is positive')\n",
    "    print(num,'square is', num**2)\n",
    "else:\n",
    "    print(num, 'is negative')\n",
    "print('Bye')"
   ]
  },
  {
   "cell_type": "code",
   "execution_count": 44,
   "metadata": {},
   "outputs": [
    {
     "output_type": "stream",
     "name": "stdout",
     "text": [
      "Ah, the bourgeoisie!\n"
     ]
    }
   ],
   "source": [
    "savings = float(input('Enter how much you have in savings: '))\n",
    "if savings == 0:\n",
    "    print(\"Sorry, no savings.\")\n",
    "elif savings < 500 and savings > 0:\n",
    "    print('Well done.')\n",
    "elif savings < 1000 and savings >0:\n",
    "    print('That is quite the balance.')\n",
    "elif savings < 10000 and savings >0:\n",
    "    print('Ah, the bourgeoisie!')\n",
    "else:\n",
    "    print('Thank you')\n"
   ]
  },
  {
   "cell_type": "code",
   "execution_count": 1,
   "metadata": {},
   "outputs": [
    {
     "output_type": "stream",
     "name": "stdout",
     "text": [
      "It is freezing\nBye\n"
     ]
    }
   ],
   "source": [
    "# nesting if statements\n",
    "snowing = False\n",
    "temp = 9\n",
    "if temp < 65:\n",
    "    print('It is freezing')\n",
    "    if snowing:\n",
    "        print('Put on boots')\n",
    "        print('Time for Hot Chocolate')\n",
    "print('Bye')\n"
   ]
  },
  {
   "cell_type": "code",
   "execution_count": 3,
   "metadata": {},
   "outputs": [
    {
     "output_type": "stream",
     "name": "stdout",
     "text": [
      "Starting\n0  1  2  3  4  5  6  7  8  9  Done\n"
     ]
    }
   ],
   "source": [
    "count = 0\n",
    "print('Starting')\n",
    "while count< 10:\n",
    "    print(count,'',end=' ')\n",
    "    count += 1\n",
    "print ('Done')\n"
   ]
  },
  {
   "cell_type": "code",
   "execution_count": 4,
   "metadata": {},
   "outputs": [
    {
     "output_type": "stream",
     "name": "stdout",
     "text": [
      "Print out values in a range\n0   1   2   3   4   5   6   7   8   9   Done\n"
     ]
    }
   ],
   "source": [
    "print('Print out values in a range')\n",
    "for i in range(0,10):\n",
    "    print(i, ' ', end=' ')\n",
    "print('Done')"
   ]
  },
  {
   "cell_type": "code",
   "execution_count": 5,
   "metadata": {},
   "outputs": [
    {
     "output_type": "stream",
     "name": "stdout",
     "text": [
      "Only print code if all iterations completed\n",
      "0   1   2   3   4   Done\n"
     ]
    }
   ],
   "source": [
    "# break loop statements\n",
    "print('Only print code if all iterations completed')\n",
    "num = int(input('Enter a number to check for: '))\n",
    "for i in range(0,6):\n",
    "    if i==num:\n",
    "        break\n",
    "    print(i,' ',end=' ')\n",
    "print('Done')\n",
    "\n"
   ]
  },
  {
   "cell_type": "code",
   "execution_count": 10,
   "metadata": {},
   "outputs": [
    {
     "output_type": "stream",
     "name": "stdout",
     "text": [
      "0 \n\nhey its an even number\nwe love even number\n1 \n\n2 \n\nhey its an even number\nwe love even number\n3 \n\n4 \n\nhey its an even number\nwe love even number\n5 \n\n6 \n\nhey its an even number\nwe love even number\n7 \n\n8 \n\nhey its an even number\nwe love even number\n9 \n\nDone\n"
     ]
    }
   ],
   "source": [
    "# continue loop statements\n",
    "for i in range(0,10):\n",
    "    print(i,'\\n')\n",
    "    if i%2==1:\n",
    "        continue\n",
    "    print('hey its an even number')\n",
    "    print('we love even number')\n",
    "    \n",
    "print('Done')\n"
   ]
  },
  {
   "cell_type": "code",
   "execution_count": 13,
   "metadata": {},
   "outputs": [
    {
     "output_type": "execute_result",
     "data": {
      "text/plain": [
       "['orange',\n",
       " 'apple',\n",
       " 'orange',\n",
       " 'pear',\n",
       " 'banana',\n",
       " 'kiwi',\n",
       " 'apple',\n",
       " 'banana',\n",
       " 'kiwi']"
      ]
     },
     "metadata": {},
     "execution_count": 13
    }
   ],
   "source": [
    "# creating a list\n",
    "fruits = ['orange', 'apple', 'pear', 'banana', 'kiwi', 'apple','banana']\n",
    "fruits.append('kiwi')\n",
    "fruits.insert(2,'orange')\n",
    "fruits"
   ]
  },
  {
   "cell_type": "code",
   "execution_count": 15,
   "metadata": {},
   "outputs": [
    {
     "output_type": "execute_result",
     "data": {
      "text/plain": [
       "['orange', 'apple', 'orange', 'kiwi', 'apple', 'banana']"
      ]
     },
     "metadata": {},
     "execution_count": 15
    }
   ],
   "source": [
    "fruits.pop(3)\n",
    "fruits\n"
   ]
  },
  {
   "cell_type": "code",
   "execution_count": 16,
   "metadata": {},
   "outputs": [
    {
     "output_type": "execute_result",
     "data": {
      "text/plain": [
       "['banana', 'apple', 'kiwi', 'orange', 'apple', 'orange']"
      ]
     },
     "metadata": {},
     "execution_count": 16
    }
   ],
   "source": [
    "fruits.reverse()\n",
    "fruits"
   ]
  },
  {
   "cell_type": "code",
   "execution_count": 18,
   "metadata": {},
   "outputs": [
    {
     "output_type": "execute_result",
     "data": {
      "text/plain": [
       "{'jack': 4098, 'sape': 4139}"
      ]
     },
     "metadata": {},
     "execution_count": 18
    }
   ],
   "source": [
    "# dictionaries\n",
    "tel = {'jack':4098, 'sape':4139}\n",
    "tel"
   ]
  },
  {
   "cell_type": "code",
   "execution_count": 19,
   "metadata": {},
   "outputs": [
    {
     "output_type": "execute_result",
     "data": {
      "text/plain": [
       "{'jack': 4098, 'sape': 4139, 'guido': 4127}"
      ]
     },
     "metadata": {},
     "execution_count": 19
    }
   ],
   "source": [
    "tel['guido']=4127\n",
    "tel"
   ]
  },
  {
   "cell_type": "code",
   "execution_count": 20,
   "metadata": {},
   "outputs": [
    {
     "output_type": "execute_result",
     "data": {
      "text/plain": [
       "{'jack': 4098, 'guido': 4127}"
      ]
     },
     "metadata": {},
     "execution_count": 20
    }
   ],
   "source": [
    "tel['jack']\n",
    "del tel['sape']\n",
    "tel"
   ]
  },
  {
   "cell_type": "code",
   "execution_count": 21,
   "metadata": {},
   "outputs": [
    {
     "output_type": "execute_result",
     "data": {
      "text/plain": [
       "['jack', 'guido']"
      ]
     },
     "metadata": {},
     "execution_count": 21
    }
   ],
   "source": [
    "list(tel)"
   ]
  },
  {
   "cell_type": "code",
   "execution_count": 22,
   "metadata": {},
   "outputs": [
    {
     "output_type": "execute_result",
     "data": {
      "text/plain": [
       "['guido', 'jack']"
      ]
     },
     "metadata": {},
     "execution_count": 22
    }
   ],
   "source": [
    "sorted(tel)"
   ]
  },
  {
   "cell_type": "code",
   "execution_count": 23,
   "metadata": {},
   "outputs": [
    {
     "output_type": "stream",
     "name": "stdout",
     "text": [
      "gallahad the pure\nrobin the brave\n"
     ]
    }
   ],
   "source": [
    "knight = {'gallahad':'the pure', 'robin':'the brave'}\n",
    "for k, v in knight.items():\n",
    "    print(k,v)"
   ]
  },
  {
   "cell_type": "code",
   "execution_count": 24,
   "metadata": {},
   "outputs": [
    {
     "output_type": "execute_result",
     "data": {
      "text/plain": [
       "'Ford'"
      ]
     },
     "metadata": {},
     "execution_count": 24
    }
   ],
   "source": [
    "thisdict = {'brand':'Ford', \"electric\":False, \"Year\":1964, \"colors\":['red','white','blue']}\n",
    "thisdict['brand']"
   ]
  },
  {
   "cell_type": "code",
   "execution_count": 25,
   "metadata": {},
   "outputs": [
    {
     "output_type": "execute_result",
     "data": {
      "text/plain": [
       "False"
      ]
     },
     "metadata": {},
     "execution_count": 25
    }
   ],
   "source": [
    "thisdict['electric']"
   ]
  },
  {
   "cell_type": "code",
   "execution_count": 30,
   "metadata": {},
   "outputs": [
    {
     "output_type": "execute_result",
     "data": {
      "text/plain": [
       "'blue'"
      ]
     },
     "metadata": {},
     "execution_count": 30
    }
   ],
   "source": [
    "thisdict['colors'][2]"
   ]
  },
  {
   "cell_type": "code",
   "execution_count": null,
   "metadata": {},
   "outputs": [],
   "source": []
  }
 ]
}