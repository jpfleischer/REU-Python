{
 "metadata": {
  "language_info": {
   "codemirror_mode": {
    "name": "ipython",
    "version": 3
   },
   "file_extension": ".py",
   "mimetype": "text/x-python",
   "name": "python",
   "nbconvert_exporter": "python",
   "pygments_lexer": "ipython3",
   "version": "3.9.5"
  },
  "orig_nbformat": 2,
  "kernelspec": {
   "name": "python395jvsc74a57bd011fc141419a455748615588ca451337eaec63d1d64c3783b2264b902ed0c7821",
   "display_name": "Python 3.9.5 64-bit"
  },
  "metadata": {
   "interpreter": {
    "hash": "11fc141419a455748615588ca451337eaec63d1d64c3783b2264b902ed0c7821"
   }
  }
 },
 "nbformat": 4,
 "nbformat_minor": 2,
 "cells": [
  {
   "cell_type": "code",
   "execution_count": 34,
   "metadata": {},
   "outputs": [
    {
     "output_type": "stream",
     "name": "stdout",
     "text": [
      "1\n<class 'int'>\n10000000000000000000000000000000000000000000001\n<class 'int'>\n"
     ]
    }
   ],
   "source": [
    "x = 1\n",
    "print(x)\n",
    "print(type(x))\n",
    "x = 10000000000000000000000000000000000000000000001\n",
    "print(x)\n",
    "print(type(x))\n"
   ]
  },
  {
   "cell_type": "code",
   "execution_count": 35,
   "metadata": {},
   "outputs": [
    {
     "output_type": "stream",
     "name": "stdout",
     "text": [
      "22\n<class 'int'>\n"
     ]
    }
   ],
   "source": [
    "age = int(input('Please enter your age: '))\n",
    "print(age)\n",
    "print(type(age))"
   ]
  },
  {
   "cell_type": "code",
   "execution_count": 36,
   "metadata": {},
   "outputs": [
    {
     "output_type": "stream",
     "name": "stdout",
     "text": [
      "1.83\n<class 'float'>\n"
     ]
    }
   ],
   "source": [
    "# floating points\n",
    "exchange_rate = 1.83\n",
    "print(exchange_rate)\n",
    "print(type(exchange_rate))"
   ]
  },
  {
   "cell_type": "code",
   "execution_count": 37,
   "metadata": {},
   "outputs": [
    {
     "output_type": "stream",
     "name": "stdout",
     "text": [
      "False\n<class 'bool'>\n"
     ]
    }
   ],
   "source": [
    "# Convert string to Boolean\n",
    "status = bool(input('Ok to proceed:'))\n",
    "print(status)\n",
    "print(type(status))"
   ]
  },
  {
   "cell_type": "code",
   "execution_count": 38,
   "metadata": {},
   "outputs": [
    {
     "output_type": "stream",
     "name": "stdout",
     "text": [
      "1\n0\nTrue\nFalse\n"
     ]
    }
   ],
   "source": [
    "# the Boolean type is actually a subtype of integer\n",
    "print(int(True))\n",
    "print(int(False))\n",
    "print(bool(1))\n",
    "print(bool(0))"
   ]
  },
  {
   "cell_type": "code",
   "execution_count": 39,
   "metadata": {},
   "outputs": [
    {
     "output_type": "stream",
     "name": "stdout",
     "text": [
      "5.0\n<class 'float'>\n"
     ]
    }
   ],
   "source": [
    "print(100/20)\n",
    "print(type(100/20))"
   ]
  },
  {
   "cell_type": "code",
   "execution_count": 40,
   "metadata": {},
   "outputs": [
    {
     "output_type": "stream",
     "name": "stdout",
     "text": [
      "25\n"
     ]
    }
   ],
   "source": [
    "print(5**2)"
   ]
  },
  {
   "cell_type": "code",
   "execution_count": 41,
   "metadata": {},
   "outputs": [
    {
     "output_type": "stream",
     "name": "stdout",
     "text": [
      "<class 'float'>\n2.0\n"
     ]
    }
   ],
   "source": [
    "print(type(10/5))\n",
    "print(10/5)"
   ]
  },
  {
   "cell_type": "code",
   "execution_count": 42,
   "metadata": {},
   "outputs": [
    {
     "output_type": "stream",
     "name": "stdout",
     "text": [
      "5 is positive\n5 square is 25\nBye\n"
     ]
    }
   ],
   "source": [
    "# working with an if statement\n",
    "num = int(input('Enter a number: '))\n",
    "if num > 0:\n",
    "    print(num,'is positive')\n",
    "    print(num,'square is', num*num)\n",
    "    print('Bye')"
   ]
  },
  {
   "cell_type": "code",
   "execution_count": 43,
   "metadata": {},
   "outputs": [
    {
     "output_type": "stream",
     "name": "stdout",
     "text": [
      "8 is positive\n8 square is 64\nBye\n"
     ]
    }
   ],
   "source": [
    "num = int(input('Enter another number:'))\n",
    "if num > 0:\n",
    "    print(num,'is positive')\n",
    "    print(num,'square is', num**2)\n",
    "else:\n",
    "    print(num, 'is negative')\n",
    "print('Bye')"
   ]
  },
  {
   "cell_type": "code",
   "execution_count": 44,
   "metadata": {},
   "outputs": [
    {
     "output_type": "stream",
     "name": "stdout",
     "text": [
      "Ah, the bourgeoisie!\n"
     ]
    }
   ],
   "source": [
    "savings = float(input('Enter how much you have in savings: '))\n",
    "if savings == 0:\n",
    "    print(\"Sorry, no savings.\")\n",
    "elif savings < 500 and savings > 0:\n",
    "    print('Well done.')\n",
    "elif savings < 1000 and savings >0:\n",
    "    print('That is quite the balance.')\n",
    "elif savings < 10000 and savings >0:\n",
    "    print('Ah, the bourgeoisie!')\n",
    "else:\n",
    "    print('Thank you')\n"
   ]
  }
 ]
}