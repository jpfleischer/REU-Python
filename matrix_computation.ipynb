{
 "metadata": {
  "language_info": {
   "codemirror_mode": {
    "name": "ipython",
    "version": 3
   },
   "file_extension": ".py",
   "mimetype": "text/x-python",
   "name": "python",
   "nbconvert_exporter": "python",
   "pygments_lexer": "ipython3",
   "version": "3.8.5"
  },
  "orig_nbformat": 4,
  "kernelspec": {
   "name": "python3",
   "display_name": "Python 3.8.5 64-bit"
  },
  "interpreter": {
   "hash": "2db524e06e9f5f4ffedc911c917cb75e12dbc923643829bf417064a77eb14d37"
  }
 },
 "nbformat": 4,
 "nbformat_minor": 2,
 "cells": [
  {
   "cell_type": "code",
   "execution_count": 1,
   "metadata": {},
   "outputs": [],
   "source": [
    "# import numpy library\n",
    "import numpy as np"
   ]
  },
  {
   "cell_type": "code",
   "execution_count": 2,
   "metadata": {},
   "outputs": [],
   "source": [
    "# create two square matrix\n",
    "X = np.array([[1,5,6],[8,5,9],[1,0,3]])\n",
    "Z = np.array([[12,20,-3],[5,-8,5],[6,9,17]])"
   ]
  },
  {
   "cell_type": "code",
   "execution_count": 3,
   "metadata": {},
   "outputs": [
    {
     "output_type": "stream",
     "name": "stdout",
     "text": [
      "[[1 5 6]\n [8 5 9]\n [1 0 3]] \n\n[[12 20 -3]\n [ 5 -8  5]\n [ 6  9 17]]\n"
     ]
    }
   ],
   "source": [
    "print(X,'\\n')\n",
    "print(Z)"
   ]
  },
  {
   "cell_type": "code",
   "execution_count": 4,
   "metadata": {},
   "outputs": [
    {
     "output_type": "stream",
     "name": "stdout",
     "text": [
      "[[13 25  3]\n [13 -3 14]\n [ 7  9 20]] \n\n[[-11 -15   9]\n [  3  13   4]\n [ -5  -9 -14]]\n"
     ]
    }
   ],
   "source": [
    "# Add and subtract the matrices X and Z\n",
    "r_added = X.__add__(Z)\n",
    "Z_subtracted_from_X = X.__sub__(Z)\n",
    "print(r_added,'\\n')\n",
    "print(Z_subtracted_from_X)"
   ]
  },
  {
   "cell_type": "code",
   "execution_count": 5,
   "metadata": {},
   "outputs": [
    {
     "output_type": "stream",
     "name": "stdout",
     "text": [
      "[[ 12 100 -18]\n [ 40 -40  45]\n [  6   0  51]] \n\n[[ 73  34 124]\n [175 201 154]\n [ 30  47  48]]\n"
     ]
    }
   ],
   "source": [
    "# piecewise multiplication and multiplication of two matrices\n",
    "r_piecewise = X.__mul__(Z)\n",
    "r_mul = X.__matmul__(Z)\n",
    "print(r_piecewise,'\\n')\n",
    "print(r_mul)"
   ]
  },
  {
   "cell_type": "code",
   "execution_count": 6,
   "metadata": {},
   "outputs": [],
   "source": [
    "# create the matrix for chemist's problem\n",
    "A = np.array([[1,1],[10,35]])\n",
    "b = np.array([[2],[30]])"
   ]
  },
  {
   "cell_type": "code",
   "execution_count": 7,
   "metadata": {},
   "outputs": [
    {
     "output_type": "stream",
     "name": "stdout",
     "text": [
      "dim. of matrix A =  (2, 2)\ndim. of vector b =  (2, 1)\n"
     ]
    }
   ],
   "source": [
    "# verify the size of matrix A and size of vector b\n",
    "print('dim. of matrix A = ',A.shape)\n",
    "print('dim. of vector b = ',b.shape)"
   ]
  },
  {
   "cell_type": "code",
   "execution_count": 8,
   "metadata": {},
   "outputs": [
    {
     "output_type": "execute_result",
     "data": {
      "text/plain": [
       "25.000000000000007"
      ]
     },
     "metadata": {},
     "execution_count": 8
    }
   ],
   "source": [
    "# the det(A) !=0?\n",
    "np.linalg.det(A)"
   ]
  },
  {
   "cell_type": "code",
   "execution_count": 9,
   "metadata": {},
   "outputs": [
    {
     "output_type": "stream",
     "name": "stdout",
     "text": [
      "[[ 1.4  -0.04]\n [-0.4   0.04]]\n"
     ]
    }
   ],
   "source": [
    "# let's find the solution\n",
    "inv_A = np.linalg.inv(A)\n",
    "print(inv_A)"
   ]
  },
  {
   "cell_type": "code",
   "execution_count": 14,
   "metadata": {},
   "outputs": [
    {
     "output_type": "stream",
     "name": "stdout",
     "text": [
      "The solution is [[1.6]\n [0.4]]\n"
     ]
    }
   ],
   "source": [
    "# finding the results\n",
    "x = inv_A.dot(b)\n",
    "print('The solution is',x)"
   ]
  },
  {
   "cell_type": "code",
   "execution_count": 16,
   "metadata": {},
   "outputs": [
    {
     "output_type": "stream",
     "name": "stdout",
     "text": [
      "Matrix B =\n [[ 1  2  6]\n [ 1 -1  4]\n [ 2  1  5]]\nvector b =\n [[ 8]\n [ 5]\n [13]]\n"
     ]
    }
   ],
   "source": [
    "# define the matrix B\n",
    "B = np.array([[1,2,6],[1,-1,4],[2,1,5]])\n",
    "b = np.array([[8],[5],[13]])\n",
    "print('Matrix B =\\n',B)\n",
    "print('vector b =\\n',b)\n"
   ]
  },
  {
   "cell_type": "code",
   "execution_count": 17,
   "metadata": {},
   "outputs": [
    {
     "output_type": "stream",
     "name": "stdout",
     "text": [
      "14.999999999999993\n"
     ]
    }
   ],
   "source": [
    "# computing the det. of B\n",
    "print(np.linalg.det(B))"
   ]
  },
  {
   "cell_type": "code",
   "execution_count": 18,
   "metadata": {},
   "outputs": [],
   "source": [
    "# find the inverse\n",
    "inv_B = np.linalg.inv(B)"
   ]
  },
  {
   "cell_type": "code",
   "execution_count": 20,
   "metadata": {},
   "outputs": [
    {
     "output_type": "stream",
     "name": "stdout",
     "text": [
      "Solution is  [[6.]\n [1.]\n [0.]]\n"
     ]
    }
   ],
   "source": [
    "X = inv_B.dot(b)\n",
    "print('Solution is ', X)"
   ]
  },
  {
   "cell_type": "code",
   "execution_count": 21,
   "metadata": {},
   "outputs": [
    {
     "output_type": "stream",
     "name": "stdout",
     "text": [
      "The equation 1 was satisfied\n"
     ]
    }
   ],
   "source": [
    "# checking your results\n",
    "x1 = 6\n",
    "x2 = 1\n",
    "x3 = 0\n",
    "if (x1+2*x2+6*x3==8):\n",
    "    print('The equation 1 was satisfied')\n",
    "else:\n",
    "    print('The equation 1 was not satisfied')"
   ]
  },
  {
   "cell_type": "code",
   "execution_count": null,
   "metadata": {},
   "outputs": [],
   "source": []
  }
 ]
}