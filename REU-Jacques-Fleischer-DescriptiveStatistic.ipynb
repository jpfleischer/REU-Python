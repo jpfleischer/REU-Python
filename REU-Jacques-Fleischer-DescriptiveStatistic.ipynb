{
 "metadata": {
  "language_info": {
   "codemirror_mode": {
    "name": "ipython",
    "version": 3
   },
   "file_extension": ".py",
   "mimetype": "text/x-python",
   "name": "python",
   "nbconvert_exporter": "python",
   "pygments_lexer": "ipython3",
   "version": "3.8.5"
  },
  "orig_nbformat": 4,
  "kernelspec": {
   "name": "python3",
   "display_name": "Python 3.8.5 64-bit"
  },
  "interpreter": {
   "hash": "2db524e06e9f5f4ffedc911c917cb75e12dbc923643829bf417064a77eb14d37"
  }
 },
 "nbformat": 4,
 "nbformat_minor": 2,
 "cells": [
  {
   "cell_type": "code",
   "execution_count": 1,
   "metadata": {},
   "outputs": [],
   "source": [
    "# creating a pandas series array\n",
    "import pandas as pd\n",
    "data = pd.Series([45,66,83,71,76,64,59,59,76,82,80,81,85,77,82,90,87,72,79,69,83,71,87,69,81,76,96,83,67,94,101,94,89,94,73,99,93,85,83,80,78,80,85,83,84,74,81,70,65,89,70,80,84,77,65,46,80,70,75,45,101,71,109,73,73,80,72,81,63,74])"
   ]
  },
  {
   "cell_type": "code",
   "execution_count": 2,
   "metadata": {},
   "outputs": [
    {
     "output_type": "stream",
     "name": "stdout",
     "text": [
      "The maximum value is 109\nThe minimum value is 45\n"
     ]
    }
   ],
   "source": [
    "# Let's find the maximum and minimum value from our data\n",
    "print('The maximum value is',data.max())\n",
    "print('The minimum value is',data.min())"
   ]
  },
  {
   "cell_type": "code",
   "execution_count": 3,
   "metadata": {},
   "outputs": [
    {
     "output_type": "stream",
     "name": "stdout",
     "text": [
      "80     6\n83     5\n81     4\n73     3\n70     3\n76     3\n71     3\n85     3\n94     3\n69     2\n84     2\n59     2\n82     2\n101    2\n89     2\n77     2\n65     2\n74     2\n87     2\n72     2\n45     2\n90     1\n93     1\n99     1\n96     1\n78     1\n79     1\n46     1\n75     1\n67     1\n66     1\n64     1\n63     1\n109    1\ndtype: int64\n"
     ]
    }
   ],
   "source": [
    "print(data.value_counts())"
   ]
  },
  {
   "cell_type": "code",
   "execution_count": null,
   "metadata": {},
   "outputs": [],
   "source": []
  }
 ]
}